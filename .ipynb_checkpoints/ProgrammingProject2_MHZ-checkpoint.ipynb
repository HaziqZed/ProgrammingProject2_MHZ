{
 "cells": [
  {
   "cell_type": "markdown",
   "metadata": {},
   "source": [
    "# ProgrammingProject2_MHZ\n",
    "---\n",
    "**Author:** Haziq Zed  \n",
    "**Version:** 1.0  \n",
    "**Semester:** Fall 2020  \n",
    "\n",
    "This *notebook* contains my solution to **ProgrammingProject2_MHZ**"
   ]
  },
  {
   "cell_type": "code",
   "execution_count": 203,
   "metadata": {},
   "outputs": [
    {
     "name": "stdout",
     "output_type": "stream",
     "text": [
      " George Washington lived about 2 years after he finished the presidency\n",
      " John Adams1 lived about 25 years after he finished the presidency\n",
      " Thomas Jefferson lived about 17 years after he finished the presidency\n",
      " James Monroe lived about 6 years after he finished the presidency\n"
     ]
    }
   ],
   "source": [
    "import statistics as stats\n",
    "from prettytable import PrettyTable\n",
    "import json\n",
    "\n",
    "presidents = [['George','Washington',1789,1797,'VA','2/22/1732','12/14/1799',57,67],\n",
    "['John','Adams1',1797,1801,'MA','10/30/1735','7/4/1826',61,90],\n",
    "['Thomas','Jefferson',1801,1809,'VA','4/13/1743','7/4/1826',57,83],\n",
    "['James','Madison',1809,1817,'VA','3/16/1751','6/28/1836',57,85],\n",
    "['James','Monroe',1817,1825,'VA','4/28/1758','7/4/1831',58,73],\n",
    "['John','Adams2',1825,1829,'MA','7/11/1767','2/23/1848',57,80],\n",
    "['Andrew','Jackson',1829,1837,'SC','3/15/1767','6/8/1845',61,78],\n",
    "['Martin','Van Buren',1837,1841,'NY','12/5/1782','7/24/1862',54,79],\n",
    "['William','Harrison1',1841,1841,'VA','2/9/1773','4/4/1841',68,68],\n",
    "['John','Tyler',1841,1845,'VA','3/29/1790','1/18/1862',51,71],\n",
    "['James','Polk',1845,1849,'NC','11/2/1795','6/15/1849',49,53],\n",
    "['Zachary','Taylor',1849,1850,'VA','11/24/1784','7/9/1850',64,65],\n",
    "['Millard','Fillmore',1850,1853,'NY','1/7/1800','3/8/1874',50,74],\n",
    "['Franklin','Pierce',1853,1857,'NH','11/23/1804','10/8/1869',48,64],\n",
    "['James','Buchanan',1857,1861,'PA','4/23/1791','6/1/1868',65,77],\n",
    "['Abraham','Lincoln',1861,1865,'KY','2/12/1809','4/15/1865',52,56],\n",
    "['Andrew','Johnson',1865,1869,'NC','12/29/1808','7/31/1875',56,66],\n",
    "['Ulysses','Grant',1869,1877,'OH','4/27/1822','7/23/1885',46,63],\n",
    "['Rutherford','Hayes',1877,1881,'OH','10/4/1822','1/17/1893',54,70],\n",
    "['James','Garfield',1881,1881,'OH','11/19/1831','9/19/1881',49,49],\n",
    "['Chester','Arthur',1881,1885,'VT','10/5/1829','11/18/1886',50,56],\n",
    "['Grover','Cleveland1',1885,1889,'NJ','3/18/1837','6/24/1908',47,71],\n",
    "['Benjamin','Harrison2',1889,1893,'OH','8/20/1833','3/13/1901',55,67],\n",
    "['Grover','Cleveland2',1893,1897,'NJ','3/18/1837','6/24/1908',55,71]]\n",
    "\n",
    "def extract_column(data,i):\n",
    "    '''This function would accept the list of lists (presidents) and specific column number \n",
    "    and output the data of the specific column number only'''\n",
    "    column = [column[i] for column in presidents]\n",
    "    return column\n",
    "\n",
    "\n",
    "First_name = extract_column(presidents,0)\n",
    "Last_name = extract_column(presidents,1)\n",
    "Start_term = extract_column(presidents,2)\n",
    "End_term = extract_column(presidents,3)\n",
    "Birth_state = extract_column(presidents,4)\n",
    "Born = extract_column(presidents,5)\n",
    "Died = extract_column(presidents,6)\n",
    "Inauguration_age = extract_column(presidents,7)\n",
    "Death_age = extract_column(presidents,8)\n",
    "\n",
    "names = list(zip(Last_name,First_name))\n",
    "\n",
    "sorted_names = sorted(list(zip(Last_name,First_name)))\n",
    "\n",
    "\n",
    "mean_inaug_age = stats.mean(Inauguration_age)\n",
    "mean_death_age = stats.mean(Death_age)\n",
    "\n",
    "\n",
    "def get_post_term(presidents):\n",
    "    '''This function takes the list of lists (presidents) and extract the date of death of the specific\n",
    "    president and split it into three seperate integers to be able to use the year the president died to \n",
    "    get the number of years the president lived after his term finished'''\n",
    "    temp = presidents[6]\n",
    "    temp = temp.split(\"/\")\n",
    "    temp = int(temp[2])\n",
    "    years = temp - presidents[3]\n",
    "    return years\n",
    "\n",
    "print(f' {presidents[0][0]} {presidents[0][1]} lived about {get_post_term(presidents[0])} years after he finished the presidency')\n",
    "print(f' {presidents[1][0]} {presidents[1][1]} lived about {get_post_term(presidents[1])} years after he finished the presidency')\n",
    "print(f' {presidents[2][0]} {presidents[2][1]} lived about {get_post_term(presidents[2])} years after he finished the presidency')\n",
    "print(f' {presidents[4][0]} {presidents[4][1]} lived about {get_post_term(presidents[4])} years after he finished the presidency')\n",
    "\n",
    "post_presidency = list(map(get_post_term,presidents))\n",
    "\n",
    "mean_post_presidency = stats.mean(post_presidency)"
   ]
  },
  {
   "cell_type": "code",
   "execution_count": 202,
   "metadata": {},
   "outputs": [
    {
     "name": "stdout",
     "output_type": "stream",
     "text": [
      "+--------------------------+-------------------+---------------------------------------+\n",
      "| Mean Age at Inauguration | Mean Age at Death | Mean Number of Years after Presidency |\n",
      "+--------------------------+-------------------+---------------------------------------+\n",
      "|              55.04 years |       69.83 years |                            9.96 years |\n",
      "+--------------------------+-------------------+---------------------------------------+\n"
     ]
    }
   ],
   "source": [
    "def calculate_summary():\n",
    "    '''This function takes the variables of mean inaugural age, mean death age, and mean post presidency\n",
    "    and formats the data into a table using the prettytable library'''\n",
    "    x = PrettyTable()\n",
    "    x.field_names = (\"Mean Age at Inauguration\",\"Mean Age at Death\",\"Mean Number of Years after Presidency\")\n",
    "    x.add_row([(f'{mean_inaug_age:.2f} years'), (f'{mean_death_age:.2f} years'), (f'{mean_post_presidency:.2f} years')])\n",
    "    x.align = \"r\"\n",
    "    print(x)\n",
    "calculate_summary()"
   ]
  },
  {
   "cell_type": "code",
   "execution_count": 199,
   "metadata": {},
   "outputs": [
    {
     "name": "stdout",
     "output_type": "stream",
     "text": [
      "{\n",
      "    \"Washington\": 67,\n",
      "    \"Adams1\": 90,\n",
      "    \"Jefferson\": 83,\n",
      "    \"Madison\": 85,\n",
      "    \"Monroe\": 73,\n",
      "    \"Adams2\": 80,\n",
      "    \"Jackson\": 78,\n",
      "    \"Van Buren\": 79,\n",
      "    \"Harrison1\": 68,\n",
      "    \"Tyler\": 71,\n",
      "    \"Polk\": 53,\n",
      "    \"Taylor\": 65,\n",
      "    \"Fillmore\": 74,\n",
      "    \"Pierce\": 64,\n",
      "    \"Buchanan\": 77,\n",
      "    \"Lincoln\": 56,\n",
      "    \"Johnson\": 66,\n",
      "    \"Grant\": 63,\n",
      "    \"Hayes\": 70,\n",
      "    \"Garfield\": 49,\n",
      "    \"Arthur\": 56,\n",
      "    \"Cleveland1\": 71,\n",
      "    \"Harrison2\": 67,\n",
      "    \"Cleveland2\": 71\n",
      "}\n"
     ]
    }
   ],
   "source": [
    "def convert_to_dict(presidents):\n",
    "    '''This function accepts the list of lists (presidents) and extracts the last name and assigns\n",
    "    it as the key in the new dictionary formed called prez_dicts, and assigns the age of death as\n",
    "    the value'''\n",
    "    prez_dicts = dict()\n",
    "    for i in range(24):\n",
    "        prez_dicts[presidents[i][1]] = presidents[i][8]\n",
    "        \n",
    "    return prez_dicts\n",
    "\n",
    "\n",
    "prez_dicts = convert_to_dict(presidents)\n",
    "print(json.dumps(prez_dicts, indent=4))"
   ]
  },
  {
   "cell_type": "code",
   "execution_count": 197,
   "metadata": {},
   "outputs": [
    {
     "name": "stdout",
     "output_type": "stream",
     "text": [
      "President Washington died at 67 years old\n",
      "President Adams1 died at 90 years old\n",
      "President Jefferson died at 83 years old\n",
      "President Madison died at 85 years old\n",
      "President Monroe died at 73 years old\n",
      "President Adams2 died at 80 years old\n",
      "President Jackson died at 78 years old\n",
      "President Van Buren died at 79 years old\n",
      "President Harrison1 died at 68 years old\n",
      "President Tyler died at 71 years old\n",
      "President Polk died at 53 years old\n",
      "President Taylor died at 65 years old\n",
      "President Fillmore died at 74 years old\n",
      "President Pierce died at 64 years old\n",
      "President Buchanan died at 77 years old\n",
      "President Lincoln died at 56 years old\n",
      "President Johnson died at 66 years old\n",
      "President Grant died at 63 years old\n",
      "President Hayes died at 70 years old\n",
      "President Garfield died at 49 years old\n",
      "President Arthur died at 56 years old\n",
      "President Cleveland1 died at 71 years old\n",
      "President Harrison2 died at 67 years old\n",
      "President Cleveland2 died at 71 years old\n"
     ]
    }
   ],
   "source": [
    "def Bonus_1(dictionary):\n",
    "    '''This function uses dictionary comprehension to extract the key and values in\n",
    "    the prez_dicts dictionary and outputting a sentence using an f string'''\n",
    "    for name, death in dictionary.items():\n",
    "        print(f'President {name} died at {death} years old')\n",
    "        \n",
    "Bonus_1(prez_dicts)"
   ]
  },
  {
   "cell_type": "code",
   "execution_count": 196,
   "metadata": {},
   "outputs": [
    {
     "name": "stdout",
     "output_type": "stream",
     "text": [
      "[67, 90, 83, 85, 73, 80, 78, 79, 68, 71, 53, 65, 74, 64, 77, 56, 66, 63, 70, 49]\n"
     ]
    }
   ],
   "source": [
    "ages = Death_age\n",
    "temp = []\n",
    "for x in ages:\n",
    "    if x not in temp:\n",
    "        temp.append(x)\n",
    "ages = temp\n",
    "print(ages)"
   ]
  }
 ],
 "metadata": {
  "kernelspec": {
   "display_name": "Python 3",
   "language": "python",
   "name": "python3"
  },
  "language_info": {
   "codemirror_mode": {
    "name": "ipython",
    "version": 3
   },
   "file_extension": ".py",
   "mimetype": "text/x-python",
   "name": "python",
   "nbconvert_exporter": "python",
   "pygments_lexer": "ipython3",
   "version": "3.8.3"
  }
 },
 "nbformat": 4,
 "nbformat_minor": 4
}
